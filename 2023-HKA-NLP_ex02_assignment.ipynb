{
 "cells": [
  {
   "attachments": {},
   "cell_type": "markdown",
   "metadata": {},
   "source": [
    "## Natural Language Processing - Summer Term 2023\n",
    "### Hochschule Karlsruhe\n",
    "### Lecturer: Prof. Dr. Jannik Strötgen\n",
    "### Thanks to: Jun.-Prof. Dr. Andreas Spitz and his tutors.\n",
    "### Assignment by: Maximilian Dürr, Tobias Kühn"
   ]
  },
  {
   "cell_type": "markdown",
   "metadata": {},
   "source": [
    "# Exercise 02"
   ]
  },
  {
   "cell_type": "markdown",
   "metadata": {},
   "source": [
    "### You will learn about:"
   ]
  },
  {
   "cell_type": "markdown",
   "metadata": {},
   "source": [
    "- tokenization\n",
    "- data cleaning and stop word removal\n",
    "- stemming\n",
    "- zipf's law"
   ]
  },
  {
   "cell_type": "markdown",
   "metadata": {},
   "source": [
    "---"
   ]
  },
  {
   "cell_type": "markdown",
   "metadata": {},
   "source": [
    "## Task 1 - Tokenization (5 P):"
   ]
  },
  {
   "cell_type": "markdown",
   "metadata": {},
   "source": [
    "### Part 1\n",
    "\n",
    "Describe what tokenization is, how it is performed, and what problems it solves."
   ]
  },
  {
   "attachments": {},
   "cell_type": "markdown",
   "metadata": {},
   "source": [
    "Tokenization is the process of breaking up a text into smaller units, known as tokens, which could be words, phrases, or other meaningful segments. In natural language processing (NLP), tokenization is a critical preprocessing step for various NLP tasks, including machine translation, sentiment analysis, named entity recognition, and more.\n",
    "\n",
    "Tokenization can be performed in many ways, depending on the specific requirements of the task at hand. For instance, word tokenization involves splitting the input text into words, while character tokenization splits the input text into individual characters. Other types of tokenization include subword tokenization, which breaks down words into smaller units, and sentence tokenization, which separates the input text into sentences.\n",
    "\n",
    "Tokenization solves several problems in NLP. First, it helps to normalize the input text by removing unnecessary whitespace and other formatting issues. Second, it enables the efficient processing of large datasets by reducing the overall size of the input. Finally, tokenization makes it easier to apply statistical and machine learning models to NLP tasks since these models often work best with inputs that have been preprocessed in a consistent and standardized way"
   ]
  },
  {
   "cell_type": "markdown",
   "metadata": {},
   "source": [
    "### Part 2\n",
    "\n",
    "For the later analysis of each text file, we need to identify single tokens. Therefore, you have to use a library to separate single tokens from the text. We will use the methods offered by `nltk` for this."
   ]
  },
  {
   "cell_type": "code",
   "execution_count": 1,
   "metadata": {},
   "outputs": [],
   "source": [
    "import json\n",
    "import nltk"
   ]
  },
  {
   "cell_type": "code",
   "execution_count": 2,
   "metadata": {},
   "outputs": [
    {
     "name": "stderr",
     "output_type": "stream",
     "text": [
      "[nltk_data] Downloading package punkt to\n",
      "[nltk_data]     C:\\Users\\TK\\AppData\\Roaming\\nltk_data...\n",
      "[nltk_data]   Unzipping tokenizers\\punkt.zip.\n"
     ]
    },
    {
     "data": {
      "text/plain": [
       "True"
      ]
     },
     "execution_count": 2,
     "metadata": {},
     "output_type": "execute_result"
    }
   ],
   "source": [
    "nltk.download('punkt')"
   ]
  },
  {
   "cell_type": "code",
   "execution_count": 3,
   "metadata": {},
   "outputs": [],
   "source": [
    "with open('data/texts.json', 'r') as infile:\n",
    "    data = json.load(infile)\n",
    "\n",
    "content_debates = data['debates']\n",
    "content_reddit = data['reddit']\n",
    "content_tv = data['tv']"
   ]
  },
  {
   "cell_type": "code",
   "execution_count": 4,
   "metadata": {},
   "outputs": [],
   "source": [
    "# 1. Tokenize the text content for the three datasets above\n",
    "# 2. Print the first 20 tokens for each dataset\n",
    "# 3. Now display the first paragraphs of the corresponding original text and study them.\n",
    "#    (do _not_ use print(), but just the debug view of jupyter notebook which retains control characters) \n",
    "\n",
    "# CODE SUBMISSION ANSWER HERE (Double click to edit)\n",
    "# EXAMPLE SOLUTION\n",
    "\n",
    "tokens_debates = nltk.word_tokenize(content_debates)\n",
    "tokens_reddit = nltk.word_tokenize(content_reddit)\n",
    "tokens_tv = nltk.word_tokenize(content_tv)"
   ]
  },
  {
   "cell_type": "code",
   "execution_count": 11,
   "metadata": {},
   "outputs": [
    {
     "data": {
      "text/plain": [
       "' Good evening from Hofstra University in Hempstead, New York. I am Lester Holt, anchor of \"NBC Nightly News.” I want to welcome you to the first presidential debate.\\nThe participants tonight are Donald Trump and Hillary Clinton. This debate is sponsored by the Commission on Presidential Debates, a nonpartisan, nonprofit organization. The commission drafted tonight\\'s format, and the rules have been agreed to by the campaigns.\\nThe 90-minute debate is divided into six segments, each 15 minutes long. We\\'ll explore three topic areas tonight: Achieving prosperity; America\\'s direction; and securing America. At the start of each segment, I will ask the same lead-off question to both candidates, and they will each have up to two minutes to respond. From that point until the end of the segment, we\\'ll have an open discussion.\\nThe questions are mine and have not been shared with the commission or the campaigns. The audience here in the room has agreed to remain silent so that we can focus on what '"
      ]
     },
     "execution_count": 11,
     "metadata": {},
     "output_type": "execute_result"
    }
   ],
   "source": [
    "content_debates[0:1000]"
   ]
  },
  {
   "cell_type": "code",
   "execution_count": 12,
   "metadata": {},
   "outputs": [
    {
     "data": {
      "text/plain": [
       "'**ALL USERS: PLEASE CONSIDER THIS YOUR ONE AND ONLY WARNING**\\n\\nThis is a reminder that this subreddit has strict posting/commenting rules that will be enforced by moderation. If you are new to this subreddit, please read our sidebar before commenting. \\n\\n- Don\\'t post low effort comments (ie- jokes, memes, slogans, or links without context).\\n\\n- Do not personally insult other Redditors. Do not post racist, sexist, homophobic, bigoted, or otherwise discriminatory content.\\n\\n- Meta discussion (discussion about this or other subreddits, other users, moderators, etc.) is not allowed.\\n\\nRule violations today/tonight **WILL BE MODERATED**, and \"I did not know/understand the rules\" will not be considered a valid excuse for violating them. We understand that this is an exciting time for political junkies, but we expect civility and quality discussion from users in this subreddit. Please report any rule violations you see so that they are quickly brought to our attention.\\n\\nThanks, and have fun! Rand'"
      ]
     },
     "execution_count": 12,
     "metadata": {},
     "output_type": "execute_result"
    }
   ],
   "source": [
    "content_reddit[0:1000]"
   ]
  },
  {
   "cell_type": "code",
   "execution_count": 13,
   "metadata": {},
   "outputs": [
    {
     "data": {
      "text/plain": [
       "'\"THE TERMS WERE LAID OUT. I WROTE -- >> YOU CALLED IT THE GOLD STANDARD.\"\\n  YEAH.\"\\n  SECRETARY CLINTON. >> I HAVE A FEELING BY THE END OF THIS\"\\n \"THAT ARE INEFFECTIVE. STOP AND FRISK WAS FOUND TO BE UNCONSTITUTIONAL AND IN PART BECAUSE IT WAS\"\\n  TO KENYA TO FIND OUT ABOUT IT. THEY WERE PRESSING IT\"\\n  SO HE TRIED TO PUT THE WHOLE RACIST BIRTHER LIE TO BED. IT CAN\\'T BE DISMISSED THAT EASILY. HE HAS REALLY STARTED HIS POLITICAL ACTIVITY BASED ON THIS RACIST LIE THAT OUR FIRST\"\\n  PRESIDENT OBAMA AND SECRETARY CLINTON CREATED A VACUUM THE WAY THEY GOT OUT OF IRAQ BECAUSE THEY GOT OUT WRONG. THEY SHOULDN\\'T HAVE\"\\n \"AND REALLY WORKING HARD. DONALD SUPPORTED THE INVASION OF IRAQ. >> WRONG. >> THAT IS\"\\n \"JUDGMENT QUESTIONS. YOU HAD SUPPORTED THE WAR IN IRAQ BEFORE THE INVASION. WHAT MAKES YOUR -- >> I DID NOT SUPPORT THE WAR IN IRAQ. >> 2002 -- >> THAT IS A MAINSTREAM MEDIA NONSENSE PUT OUT BY\"\\n  THERE\\'S A\"\\n  I HOPE IT DOES COLLAPSE BECAUSE THEN I CAN GO IN AND BUY\"\\n  I HOPE IT DOES COLLAPSE BEC'"
      ]
     },
     "execution_count": 13,
     "metadata": {},
     "output_type": "execute_result"
    }
   ],
   "source": [
    "content_tv[:1000]"
   ]
  },
  {
   "cell_type": "code",
   "execution_count": 7,
   "metadata": {},
   "outputs": [
    {
     "data": {
      "text/plain": [
       "['Good',\n",
       " 'evening',\n",
       " 'from',\n",
       " 'Hofstra',\n",
       " 'University',\n",
       " 'in',\n",
       " 'Hempstead',\n",
       " ',',\n",
       " 'New',\n",
       " 'York',\n",
       " '.',\n",
       " 'I',\n",
       " 'am',\n",
       " 'Lester',\n",
       " 'Holt',\n",
       " ',',\n",
       " 'anchor',\n",
       " 'of',\n",
       " '``',\n",
       " 'NBC']"
      ]
     },
     "execution_count": 7,
     "metadata": {},
     "output_type": "execute_result"
    }
   ],
   "source": [
    "tokens_debates[:20]"
   ]
  },
  {
   "cell_type": "code",
   "execution_count": 8,
   "metadata": {},
   "outputs": [
    {
     "data": {
      "text/plain": [
       "['*',\n",
       " '*',\n",
       " 'ALL',\n",
       " 'USERS',\n",
       " ':',\n",
       " 'PLEASE',\n",
       " 'CONSIDER',\n",
       " 'THIS',\n",
       " 'YOUR',\n",
       " 'ONE',\n",
       " 'AND',\n",
       " 'ONLY',\n",
       " 'WARNING',\n",
       " '*',\n",
       " '*',\n",
       " 'This',\n",
       " 'is',\n",
       " 'a',\n",
       " 'reminder',\n",
       " 'that']"
      ]
     },
     "execution_count": 8,
     "metadata": {},
     "output_type": "execute_result"
    }
   ],
   "source": [
    "tokens_reddit[:20]"
   ]
  },
  {
   "cell_type": "code",
   "execution_count": 9,
   "metadata": {},
   "outputs": [
    {
     "data": {
      "text/plain": [
       "['``',\n",
       " 'THE',\n",
       " 'TERMS',\n",
       " 'WERE',\n",
       " 'LAID',\n",
       " 'OUT',\n",
       " '.',\n",
       " 'I',\n",
       " 'WROTE',\n",
       " '--',\n",
       " '>',\n",
       " '>',\n",
       " 'YOU',\n",
       " 'CALLED',\n",
       " 'IT',\n",
       " 'THE',\n",
       " 'GOLD',\n",
       " 'STANDARD',\n",
       " '.',\n",
       " \"''\"]"
      ]
     },
     "execution_count": 9,
     "metadata": {},
     "output_type": "execute_result"
    }
   ],
   "source": [
    "tokens_tv[:20]"
   ]
  },
  {
   "cell_type": "markdown",
   "metadata": {},
   "source": [
    "### Part 3\n",
    "\n",
    "Does this what you expected it to do? How well does the tokenization work? What happens to special characters? Can you think of any problems?"
   ]
  },
  {
   "attachments": {},
   "cell_type": "markdown",
   "metadata": {},
   "source": [
    "\\# TEXT SUBMISSION ANSWER HERE (Double click to edit) - expected approx. 100-200 words\n",
    "#TODO"
   ]
  },
  {
   "cell_type": "markdown",
   "metadata": {},
   "source": [
    "---"
   ]
  },
  {
   "cell_type": "markdown",
   "metadata": {},
   "source": [
    "## Task 2 - Data Cleaning and Stop Word Removal (10 P):\n"
   ]
  },
  {
   "cell_type": "markdown",
   "metadata": {},
   "source": [
    "### Part 1\n",
    "\n",
    "In two to three sentences, describe what *data cleaning* in the context of text data refers to."
   ]
  },
  {
   "attachments": {},
   "cell_type": "markdown",
   "metadata": {},
   "source": [
    "In the context of text data, data cleaning refers to the process of identifying and correcting or removing errors, inconsistencies, or irrelevant information in the text. This process may include tasks such as removing punctuation and stop words, correcting spelling errors, and standardizing text formats to make the data more useful for analysis and modeling."
   ]
  },
  {
   "cell_type": "markdown",
   "metadata": {},
   "source": [
    "### Part 2\n",
    "\n",
    "To have more accurate word counts and visualizations, it is often helpful to remove the capitalization of words. This is especially true for languages like German. In the following, for the three texts from above, remove any capitalization."
   ]
  },
  {
   "cell_type": "code",
   "execution_count": 15,
   "metadata": {},
   "outputs": [],
   "source": [
    "# CODE SUBMISSION ANSWER HERE (Double click to edit)\n",
    "content_debates_lc = content_debates.lower()\n",
    "content_reddit_lc = content_reddit.lower()\n",
    "content_tv_lc = content_tv.lower()"
   ]
  },
  {
   "cell_type": "code",
   "execution_count": 18,
   "metadata": {},
   "outputs": [
    {
     "data": {
      "text/plain": [
       "' good evening from hofstra university in hempstead, new york. i am lester holt, anchor of \"nbc nightly news.” i want to welcome you to the first presidential debate.\\nthe participants tonight are donald trump and hillary clinton. this debate is sponsored by the commission on presidential debates, a nonpartisan, nonprofit organization. the commission drafted tonight\\'s format, and the rules have been agreed to by the campaigns.\\nthe 90-minute debate is divided into six segments, each 15 minutes long'"
      ]
     },
     "execution_count": 18,
     "metadata": {},
     "output_type": "execute_result"
    }
   ],
   "source": [
    "content_debates_lc[:500]"
   ]
  },
  {
   "cell_type": "code",
   "execution_count": 19,
   "metadata": {},
   "outputs": [
    {
     "data": {
      "text/plain": [
       "\"**all users: please consider this your one and only warning**\\n\\nthis is a reminder that this subreddit has strict posting/commenting rules that will be enforced by moderation. if you are new to this subreddit, please read our sidebar before commenting. \\n\\n- don't post low effort comments (ie- jokes, memes, slogans, or links without context).\\n\\n- do not personally insult other redditors. do not post racist, sexist, homophobic, bigoted, or otherwise discriminatory content.\\n\\n- meta discussion (discuss\""
      ]
     },
     "execution_count": 19,
     "metadata": {},
     "output_type": "execute_result"
    }
   ],
   "source": [
    "content_reddit_lc[:500]"
   ]
  },
  {
   "cell_type": "code",
   "execution_count": 20,
   "metadata": {},
   "outputs": [
    {
     "data": {
      "text/plain": [
       "'\"the terms were laid out. i wrote -- >> you called it the gold standard.\"\\n  yeah.\"\\n  secretary clinton. >> i have a feeling by the end of this\"\\n \"that are ineffective. stop and frisk was found to be unconstitutional and in part because it was\"\\n  to kenya to find out about it. they were pressing it\"\\n  so he tried to put the whole racist birther lie to bed. it can\\'t be dismissed that easily. he has really started his political activity based on this racist lie that our first\"\\n  president obama and'"
      ]
     },
     "execution_count": 20,
     "metadata": {},
     "output_type": "execute_result"
    }
   ],
   "source": [
    "content_tv_lc[:500]"
   ]
  },
  {
   "cell_type": "markdown",
   "metadata": {},
   "source": [
    "### Part 3\n",
    "\n",
    "Apply tokenization to the lowercase version of the texts"
   ]
  },
  {
   "cell_type": "code",
   "execution_count": 21,
   "metadata": {},
   "outputs": [],
   "source": [
    "# CODE SUBMISSION ANSWER HERE (Double click to edit)\n",
    "\n",
    "tokens_debates = nltk.word_tokenize(content_debates_lc)\n",
    "tokens_reddit = nltk.word_tokenize(content_reddit_lc)\n",
    "tokens_tv = nltk.word_tokenize(content_tv_lc)"
   ]
  },
  {
   "attachments": {},
   "cell_type": "markdown",
   "metadata": {},
   "source": [
    "### Part 4\n",
    "\n",
    "In two to three sentences, describe what *stop word removal* in the context of text data refers to."
   ]
  },
  {
   "attachments": {},
   "cell_type": "markdown",
   "metadata": {},
   "source": [
    "Stop word removal is the process of identifying and removing common words from a piece of text, such as \"a\", \"an\", \"the\", and \"and\". These words are often considered noise or filler words that do not provide significant meaning to the text and may interfere with natural language processing tasks such as sentiment analysis or topic modeling."
   ]
  },
  {
   "cell_type": "markdown",
   "metadata": {},
   "source": [
    "### Part 5\n",
    "\n",
    "Now apply stop word removal to the three datasets.\n",
    "\n",
    "Hint: Assume the texts are all written in _English_"
   ]
  },
  {
   "cell_type": "code",
   "execution_count": 42,
   "metadata": {},
   "outputs": [
    {
     "name": "stdout",
     "output_type": "stream",
     "text": [
      "58831 31132 2702 1570 140203 78586\n"
     ]
    },
    {
     "name": "stderr",
     "output_type": "stream",
     "text": [
      "[nltk_data] Downloading package stopwords to\n",
      "[nltk_data]     C:\\Users\\TK\\AppData\\Roaming\\nltk_data...\n",
      "[nltk_data]   Package stopwords is already up-to-date!\n"
     ]
    }
   ],
   "source": [
    "# CODE SUBMISSION ANSWER HERE (Double click to edit)\n",
    "nltk.download('stopwords')\n",
    "from nltk.corpus import stopwords\n",
    "stops = set(stopwords.words(\"english\"))\n",
    "tokens_debates_without_sw = [word for word in tokens_debates if word not in stops]\n",
    "tokens_reddit_without_sw  = [word for word in tokens_reddit if word not in stops]\n",
    "tokens_tv_without_sw = [word for word in tokens_tv if word not in stops]\n",
    "\n",
    "print(len(tokens_debates), len(tokens_debates_without_sw), len(tokens_reddit),len(tokens_reddit_without_sw), len(tokens_tv),len(tokens_tv_without_sw))"
   ]
  },
  {
   "cell_type": "markdown",
   "metadata": {},
   "source": [
    "### Part 6\n",
    "\n",
    "Now compare the first original sentence for each dataset with the parts remaining after performing the above steps. Write them down and explain what happens."
   ]
  },
  {
   "attachments": {},
   "cell_type": "markdown",
   "metadata": {},
   "source": [
    "\\# TEXT SUBMISSION ANSWER HERE (Double click to edit) - expected approx. 50-100 words\n",
    "#TODO"
   ]
  },
  {
   "cell_type": "markdown",
   "metadata": {},
   "source": [
    "---"
   ]
  },
  {
   "cell_type": "markdown",
   "metadata": {},
   "source": [
    "## Task 3 - Stemming (10 P):\n"
   ]
  },
  {
   "cell_type": "markdown",
   "metadata": {},
   "source": [
    "### Part 1\n",
    "\n",
    "In two to three sentences, describe what *stemming* in the context of text data refers to."
   ]
  },
  {
   "attachments": {},
   "cell_type": "markdown",
   "metadata": {},
   "source": [
    "Stemming in the context of text data refers to the process of reducing words to their base or root form. This is achieved by removing suffixes and prefixes from the words, which can help to reduce the number of unique words in a dataset and improve the efficiency and accuracy of natural language processing tasks such as text classification or sentiment analysis."
   ]
  },
  {
   "cell_type": "markdown",
   "metadata": {},
   "source": [
    "### Part 2\n",
    "\n",
    "Think about how you would go about implementing your own stemmer?\n",
    "Come up with at least ten rules and write them down."
   ]
  },
  {
   "cell_type": "markdown",
   "metadata": {},
   "source": [
    "Hint: For example:\n",
    "\n",
    "```*s -> *   # remove trailing s```\n",
    "\n",
    "```*s -> *   # remove trailing s```"
   ]
  },
  {
   "attachments": {},
   "cell_type": "markdown",
   "metadata": {},
   "source": [
    "\\# TEXT SUBMISSION ANSWER HERE (Double click to edit) - expected approx. 50-100 words including the rules\n",
    "#TODO"
   ]
  },
  {
   "cell_type": "markdown",
   "metadata": {},
   "source": [
    "### Part 3\n",
    "\n",
    "Use the cleaned word tokens (Step 5 above) and apply stemming. Use the Snowball Stemmer"
   ]
  },
  {
   "cell_type": "code",
   "execution_count": 57,
   "metadata": {},
   "outputs": [],
   "source": [
    "# CODE SUBMISSION ANSWER HERE (Double click to edit)\n",
    "from nltk.stem import SnowballStemmer\n",
    "\n",
    "stemmer = SnowballStemmer('english')\n",
    "stems_debate = [ stemmer.stem(token) for token in tokens_debates_without_sw]\n",
    "stems_reddit = [ stemmer.stem(token) for token in tokens_reddit_without_sw]\n",
    "stems_tv = [ stemmer.stem(token) for token in tokens_tv_without_sw]\n"
   ]
  },
  {
   "cell_type": "code",
   "execution_count": 58,
   "metadata": {},
   "outputs": [
    {
     "data": {
      "text/plain": [
       "['good',\n",
       " 'even',\n",
       " 'hofstra',\n",
       " 'univers',\n",
       " 'hempstead',\n",
       " ',',\n",
       " 'new',\n",
       " 'york',\n",
       " '.',\n",
       " 'lester',\n",
       " 'holt',\n",
       " ',',\n",
       " 'anchor',\n",
       " '``',\n",
       " 'nbc',\n",
       " 'night',\n",
       " 'news.',\n",
       " '”',\n",
       " 'want',\n",
       " 'welcom']"
      ]
     },
     "execution_count": 58,
     "metadata": {},
     "output_type": "execute_result"
    }
   ],
   "source": [
    "stems_debate[:20]"
   ]
  },
  {
   "cell_type": "code",
   "execution_count": 45,
   "metadata": {},
   "outputs": [
    {
     "data": {
      "text/plain": [
       "['*',\n",
       " '*',\n",
       " 'user',\n",
       " ':',\n",
       " 'pleas',\n",
       " 'consid',\n",
       " 'one',\n",
       " 'warn',\n",
       " '*',\n",
       " '*',\n",
       " 'remind',\n",
       " 'subreddit',\n",
       " 'strict',\n",
       " 'posting/com',\n",
       " 'rule',\n",
       " 'enforc',\n",
       " 'moder',\n",
       " '.',\n",
       " 'new',\n",
       " 'subreddit']"
      ]
     },
     "execution_count": 45,
     "metadata": {},
     "output_type": "execute_result"
    }
   ],
   "source": [
    "stems_reddit[:20]"
   ]
  },
  {
   "cell_type": "code",
   "execution_count": 46,
   "metadata": {},
   "outputs": [
    {
     "data": {
      "text/plain": [
       "['``',\n",
       " 'term',\n",
       " 'laid',\n",
       " '.',\n",
       " 'wrote',\n",
       " '--',\n",
       " '>',\n",
       " '>',\n",
       " 'call',\n",
       " 'gold',\n",
       " 'standard',\n",
       " '.',\n",
       " \"''\",\n",
       " 'yeah',\n",
       " '.',\n",
       " \"''\",\n",
       " 'secretari',\n",
       " 'clinton',\n",
       " '.',\n",
       " '>']"
      ]
     },
     "execution_count": 46,
     "metadata": {},
     "output_type": "execute_result"
    }
   ],
   "source": [
    "stems_tv[:20]"
   ]
  },
  {
   "cell_type": "markdown",
   "metadata": {},
   "source": [
    "### Part 4\n",
    "\n",
    "Compare the results of the Snowball Stemmer with your stemming rules. How do they differ, how could you improve your stemmer?"
   ]
  },
  {
   "attachments": {},
   "cell_type": "markdown",
   "metadata": {},
   "source": [
    "\\# TEXT SUBMISSION ANSWER HERE (Double click to edit) - expected approx. 100-200 words\n",
    "#TODO"
   ]
  },
  {
   "cell_type": "markdown",
   "metadata": {},
   "source": [
    "### Part 5\n",
    "\n",
    "Create the word clouds from Exercise 1 again, but now with the preprocessed text.\n",
    "\n",
    "What changes do you see?"
   ]
  },
  {
   "cell_type": "code",
   "execution_count": null,
   "metadata": {},
   "outputs": [],
   "source": [
    "from utils import create_word_cloud\n",
    "\n",
    "# CODE SUBMISSION ANSWER HERE (Double click to edit)\n",
    "# TODO"
   ]
  },
  {
   "cell_type": "markdown",
   "metadata": {},
   "source": [
    "\\# TEXT SUBMISSION ANSWER HERE (Double click to edit) - expected approx. 100 words"
   ]
  },
  {
   "cell_type": "markdown",
   "metadata": {},
   "source": [
    "## Task 4 - Zipf's Law (5 P):\n",
    "\n",
    "In the lecture, you have heard about Zipf’s law. "
   ]
  },
  {
   "cell_type": "markdown",
   "metadata": {},
   "source": [
    "### Part 1\n",
    "\n",
    "State Zipf's law"
   ]
  },
  {
   "attachments": {},
   "cell_type": "markdown",
   "metadata": {},
   "source": [
    "Zipf's law is a statistical distribution that states that the frequency of a word in a corpus is inversely proportional to its rank in the frequency table, meaning that a few words occur very frequently, while many others occur rarely. The formula for Zipf's law is: f(r) = k/r, where f(r) is the frequency of the word at rank r, and k is a constant that depends on the corpus."
   ]
  },
  {
   "cell_type": "markdown",
   "metadata": {},
   "source": [
    "### Part 2\n",
    "\n",
    "Check if Zipf's law (approximately) holds for our three datasets after all preprocessing steps.\n",
    "\n",
    "For this, plot Zipf's law and the word distribution for each of the datasets."
   ]
  },
  {
   "cell_type": "code",
   "execution_count": 50,
   "metadata": {},
   "outputs": [],
   "source": [
    "import matplotlib.pyplot as plt\n",
    "import pandas as pd\n",
    "from operator import itemgetter"
   ]
  },
  {
   "cell_type": "code",
   "execution_count": 56,
   "metadata": {},
   "outputs": [
    {
     "name": "stdout",
     "output_type": "stream",
     "text": [
      "         Rank  Frequency  Frequency * Rank\n",
      ".           1        118               118\n",
      ",           2         91               182\n",
      "n't         3         32                96\n",
      "'s          4         31               124\n",
      "trump       5         30               150\n",
      "...       ...        ...               ...\n",
      "past      687          1               687\n",
      "respect   688          1               688\n",
      "meh       689          1               689\n",
      "slime     690          1               690\n",
      "scare     691          1               691\n",
      "\n",
      "[691 rows x 3 columns]\n"
     ]
    },
    {
     "data": {
      "image/png": "[encoded data removed]",
      "text/plain": [
       "<Figure size 1000x1000 with 1 Axes>"
      ]
     },
     "metadata": {},
     "output_type": "display_data"
    }
   ],
   "source": [
    "# CODE SUBMISSION ANSWER HERE (Double click to edit)\n",
    "frequency = {}\n",
    "for word in stems_reddit:\n",
    "    count = frequency.get(word , 0)\n",
    "    frequency[ word ] = count + 1\n",
    "\n",
    "rank = 1\n",
    "column_header = ['Rank', 'Frequency', 'Frequency * Rank']\n",
    "df = pd.DataFrame( columns = column_header )\n",
    "collection = sorted(frequency.items(), key=itemgetter(1), reverse = True)\n",
    "\n",
    "for word , freq in collection:\n",
    "    df.loc[word] = [rank, freq, rank*freq]\n",
    "    rank = rank + 1\n",
    "    \n",
    "print (df)\n",
    "\n",
    "plt.figure(figsize=(10,10)) \n",
    "plt.ylabel(\"Frequency\")\n",
    "plt.xlabel(\"Words\")\n",
    "plt.xticks(rotation=90)    \n",
    "\n",
    "for word , freq in collection[:30]:\n",
    "    plt.bar(word, freq)    \n",
    "plt.show()"
   ]
  },
  {
   "cell_type": "markdown",
   "metadata": {},
   "source": [
    "### Part 3\n",
    "\n",
    "Describe your plots and discuss your findings."
   ]
  },
  {
   "cell_type": "markdown",
   "metadata": {},
   "source": [
    "\\# TEXT SUBMISSION ANSWER HERE (Double click to edit) - expected approx. 50-100 words"
   ]
  },
  {
   "cell_type": "code",
   "execution_count": null,
   "metadata": {},
   "outputs": [],
   "source": [
    "# TODO"
   ]
  },
  {
   "cell_type": "markdown",
   "metadata": {},
   "source": [
    "---"
   ]
  },
  {
   "cell_type": "markdown",
   "metadata": {},
   "source": [
    "#### Submitting your results:\n",
    "\n",
    "To submit your results, please:\n",
    "\n",
    "- save this file, i.e., `ex??_assignment.ipynb`.\n",
    "- if you reference any external files (e.g., images), please create a zip or rar archieve and put the notebook files and all referenced files in there.\n",
    "- login to ILIAS and submit the `*.ipynb` or archive for the corresponding assignment."
   ]
  },
  {
   "cell_type": "markdown",
   "metadata": {},
   "source": [
    "**Remarks:**\n",
    "    \n",
    "- Do not copy any code from the Internet. In case you want to use publicly available code, please, add the reference to the respective code snippet.\n",
    "- Check your code compiles and executes, even after you have restarted the Kernel.\n",
    "- Submit your written solutions and the coding exercises within the provided spaces and not otherwise.\n",
    "- Write the names of your partner and your name in the top section."
   ]
  }
 ],
 "metadata": {
  "kernelspec": {
   "display_name": "Python 3",
   "language": "python",
   "name": "python3"
  },
  "language_info": {
   "codemirror_mode": {
    "name": "ipython",
    "version": 3
   },
   "file_extension": ".py",
   "mimetype": "text/x-python",
   "name": "python",
   "nbconvert_exporter": "python",
   "pygments_lexer": "ipython3",
   "version": "3.11.0"
  },
  "vscode": {
   "interpreter": {
    "hash": "c261aea317cc0286b3b3261fbba9abdec21eaa57589985bb7a274bf54d6cc0a7"
   }
  }
 },
 "nbformat": 4,
 "nbformat_minor": 4
}
